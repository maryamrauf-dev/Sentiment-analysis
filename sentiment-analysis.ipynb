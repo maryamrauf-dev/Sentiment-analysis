{
 "cells": [
  {
   "cell_type": "code",
   "execution_count": null,
   "id": "a3485787-e20d-4eb1-af40-c37c90991f63",
   "metadata": {},
   "outputs": [],
   "source": [
    "import pandas as pd\n",
    "import string\n",
    "from transformers import pipeline\n",
    "from vaderSentiment.vaderSentiment import SentimentIntensityAnalyzer\n",
    "import matplotlib.pyplot as plt"
   ]
  },
  {
   "cell_type": "code",
   "execution_count": null,
   "id": "3b81a6ed-3c68-42be-ae17-2d4accc9db15",
   "metadata": {},
   "outputs": [],
   "source": [
    "data = pd.read_csv(\"book_review_sample.csv\")\n",
    "\n",
    "print(\"Sample data:\\n\", data.head(), \"\\n\")"
   ]
  },
  {
   "cell_type": "code",
   "execution_count": null,
   "id": "08e7c605-d64e-46c3-a897-89df5ccb0760",
   "metadata": {},
   "outputs": [],
   "source": [
    "data[\"review_text_clean\"] = data[\"review_text\"].apply(\n",
    "    lambda x: ''.join([char for char in x if char not in string.punctuation]).lower()\n",
    ")\n",
    "\n",
    "print(\"Cleaned text sample:\\n\", data[\"review_text_clean\"].head(), \"\\n\")"
   ]
  },
  {
   "cell_type": "code",
   "execution_count": null,
   "id": "281e3aae-7521-4c9d-8d2c-217565418f75",
   "metadata": {},
   "outputs": [],
   "source": [
    "vader = SentimentIntensityAnalyzer()"
   ]
  },
  {
   "cell_type": "code",
   "execution_count": null,
   "id": "7ff2b2c5-fe0b-4807-a75f-86d08d7cdcf4",
   "metadata": {},
   "outputs": [],
   "source": [
    "data[\"Vader_Sentiment_Score\"] = data[\"review_text_clean\"].apply(\n",
    "    lambda review: vader.polarity_scores(review)[\"compound\"]\n",
    ")"
   ]
  },
  {
   "cell_type": "code",
   "execution_count": null,
   "id": "e1c09c87-e4ff-49b5-a62d-640ce8861609",
   "metadata": {},
   "outputs": [],
   "source": [
    "bins = [-1, -0.1, 0.1, 1]\n",
    "labels = [\"Negative\", \"Neutral\", \"Positive\"]\n",
    "data[\"Vader_Sentiment_Label\"] = pd.cut(\n",
    "    data[\"Vader_Sentiment_Score\"], bins=bins, labels=labels\n",
    ")\n"
   ]
  },
  {
   "cell_type": "code",
   "execution_count": null,
   "id": "0d1f189e-6b38-49f7-9244-35b56b864cfc",
   "metadata": {},
   "outputs": [],
   "source": [
    "print(\"VADER Sentiment Distribution:\\n\")\n",
    "data[\"Vader_Sentiment_Label\"].value_counts().plot.bar(color=[\"red\", \"gray\", \"green\"])\n",
    "plt.title(\"VADER Sentiment Distribution\")\n",
    "plt.xlabel(\"Sentiment Type\")\n",
    "plt.ylabel(\"Count\")\n",
    "plt.show()"
   ]
  },
  {
   "cell_type": "code",
   "execution_count": null,
   "id": "2821d22b-abf7-43bf-872c-edd1e14c0801",
   "metadata": {},
   "outputs": [],
   "source": [
    "transformer_pipeline = pipeline(\"sentiment-analysis\")\n"
   ]
  },
  {
   "cell_type": "code",
   "execution_count": null,
   "id": "9e7b30b2-30ff-42b7-92ac-e9f57c1c98c7",
   "metadata": {},
   "outputs": [],
   "source": [
    "results = transformer_pipeline(list(data[\"review_text_clean\"]), batch_size=32)"
   ]
  },
  {
   "cell_type": "code",
   "execution_count": null,
   "id": "b62a252c-e410-41fc-8967-554bcc806b4c",
   "metadata": {},
   "outputs": [],
   "source": [
    "data[\"Transformer_Sentiment_Labels\"] = [r[\"label\"] for r in results]"
   ]
  },
  {
   "cell_type": "code",
   "execution_count": null,
   "id": "644894fb-46dd-4af5-a194-44fda3c66bfc",
   "metadata": {},
   "outputs": [],
   "source": [
    "print(\"Transformer Sentiment Distribution:\\n\")\n",
    "data[\"Transformer_Sentiment_Labels\"].value_counts().plot.bar(color=[\"pink\", \"lightblue\"])\n",
    "plt.title(\"Transformer Sentiment Distribution\")\n",
    "plt.xlabel(\"Sentiment Type\")\n",
    "plt.ylabel(\"Count\")\n",
    "plt.show()"
   ]
  },
  {
   "cell_type": "code",
   "execution_count": null,
   "id": "6c417978-b748-41e5-b26a-20c5698a4020",
   "metadata": {},
   "outputs": [],
   "source": [
    "print(\"Final Data with Sentiment Columns:\\n\", data.head())\n"
   ]
  }
 ],
 "metadata": {
  "kernelspec": {
   "display_name": "Python (nlp_env)",
   "language": "python",
   "name": "nlp_env"
  },
  "language_info": {
   "codemirror_mode": {
    "name": "ipython",
    "version": 3
   },
   "file_extension": ".py",
   "mimetype": "text/x-python",
   "name": "python",
   "nbconvert_exporter": "python",
   "pygments_lexer": "ipython3",
   "version": "3.10.18"
  }
 },
 "nbformat": 4,
 "nbformat_minor": 5
}
